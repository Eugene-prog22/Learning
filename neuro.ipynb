{
  "nbformat": 4,
  "nbformat_minor": 0,
  "metadata": {
    "colab": {
      "provenance": [],
      "authorship_tag": "ABX9TyOSVyM0RIR/v0rclU6vI+gb",
      "include_colab_link": true
    },
    "kernelspec": {
      "name": "python3",
      "display_name": "Python 3"
    },
    "language_info": {
      "name": "python"
    }
  },
  "cells": [
    {
      "cell_type": "markdown",
      "metadata": {
        "id": "view-in-github",
        "colab_type": "text"
      },
      "source": [
        "<a href=\"https://colab.research.google.com/github/Eugene-prog22/Learning/blob/main/neuro.ipynb\" target=\"_parent\"><img src=\"https://colab.research.google.com/assets/colab-badge.svg\" alt=\"Open In Colab\"/></a>"
      ]
    },
    {
      "cell_type": "code",
      "execution_count": 1,
      "metadata": {
        "colab": {
          "base_uri": "https://localhost:8080/"
        },
        "id": "SA759GCW8sJe",
        "outputId": "7b44f25d-d1dd-42df-9595-a9e189cfc14f"
      },
      "outputs": [
        {
          "output_type": "stream",
          "name": "stdout",
          "text": [
            "Mounted at /content/gdrive\n"
          ]
        }
      ],
      "source": [
        "import numpy as np\n",
        "import matplotlib.pyplot as plt\n",
        "from google.colab import drive\n",
        "drive.mount('/content/gdrive')"
      ]
    },
    {
      "cell_type": "code",
      "source": [
        "# инициализация рандомных матриц весов\n",
        "\n",
        "# n - кол-во пикселей на входе\n",
        "n = 784\n",
        "number_of_input_neurons = n\n",
        "number_of_hidden_neurons = 20\n",
        "number_of_output_neurons = 10\n",
        "\n",
        "# входной слой - number_of_input_neurons, скрытый слой - number_of_hidden_neuron\n",
        "# случайные весовые коэф. : W ij - вес связи между j-м входным нейроном и i-м скрытым нейроном\n",
        "weights_input_to_hidden = np.random.uniform(-0.5,0.5,(number_of_hidden_neurons,number_of_input_neurons))\n",
        "\n",
        "# W ij - вес связи между j-м нейроном скрытого слоя и i-м выходным нейроном\n",
        "weights_hidden_to_output = np.random.uniform(-0.5,0.5,(number_of_output_neurons,number_of_hidden_neurons))\n",
        "\n",
        "# нейроны смещения - нулевые 2D масссивы\n",
        "bias_input_to_hidden = np.zeros((number_of_hidden_neurons,1)) # (4,1) -> кортеж с размерами\n",
        "bias_hidden_to_output = np.zeros((number_of_output_neurons,1))"
      ],
      "metadata": {
        "id": "ExGo1ziH9Xju"
      },
      "execution_count": 2,
      "outputs": []
    },
    {
      "cell_type": "code",
      "source": [
        "file_path = '/content/gdrive/MyDrive/files/neur/mnist.npz'\n",
        "with np.load(file_path) as data:\n",
        "    print(\"Ключи:\", data.files)\n",
        "    print(data['x_train'].shape)\n"
      ],
      "metadata": {
        "colab": {
          "base_uri": "https://localhost:8080/"
        },
        "id": "2Rfdra1xFoa8",
        "outputId": "282bd02f-6af4-4a55-910c-a24ec72b21b4"
      },
      "execution_count": 3,
      "outputs": [
        {
          "output_type": "stream",
          "name": "stdout",
          "text": [
            "Ключи: ['x_test', 'x_train', 'y_train', 'y_test']\n",
            "(60000, 28, 28)\n"
          ]
        }
      ]
    },
    {
      "cell_type": "code",
      "source": [
        "def load_dataset(file_path,n = 784):\n",
        "  with np.load(file_path) as f:\n",
        "    # преобразование в более удобный формат и нормализация - цвета были от 0 до 255\n",
        "    x_train = f['x_train'].astype('float32') / 255\n",
        "    # преобразование из формата 60000, 28, 28 в 60000,784 (784-колв пикселей на входе)\n",
        "    #Преобразует 3D-тензор (примеры, высота, ширина) в 2D-матрицу (примеры, признаки)\n",
        "    #Для MNIST: (60000, 28, 28) → (60000, 784)\n",
        "    x_train = np.reshape(x_train,(x_train.shape[0], n))\n",
        "\n",
        "    y_train = f['y_train']\n",
        "\n",
        "\n",
        "#   Преобразует числовые метки в векторы:\n",
        "#   5 → [0,0,0,0,0,1,0,0,0,0]\n",
        "#   Необходимо для задач классификации с несколькими классами\n",
        "    y_train = np.eye(10)[y_train]\n",
        "\n",
        "    return x_train, y_train"
      ],
      "metadata": {
        "id": "aAb4YzxoECCI"
      },
      "execution_count": 4,
      "outputs": []
    },
    {
      "cell_type": "code",
      "source": [
        "images, labels = load_dataset(file_path,n = 784)"
      ],
      "metadata": {
        "id": "ta1vOT7hrE-c"
      },
      "execution_count": 5,
      "outputs": []
    },
    {
      "cell_type": "code",
      "source": [
        "print(\"Форма изображений:\", images.shape)  # Должно быть (N, 784)\n",
        "print(\"Форма меток:\", labels.shape)        # Должно быть (N, 10)\n",
        "print(\"Пример метки:\", labels[1])          # Должен быть one-hot вектор"
      ],
      "metadata": {
        "colab": {
          "base_uri": "https://localhost:8080/"
        },
        "id": "VAr1z5j_t-AF",
        "outputId": "d3e849ce-a5ae-43da-fce2-20141fa4a824"
      },
      "execution_count": 6,
      "outputs": [
        {
          "output_type": "stream",
          "name": "stdout",
          "text": [
            "Форма изображений: (60000, 784)\n",
            "Форма меток: (60000, 10)\n",
            "Пример метки: [1. 0. 0. 0. 0. 0. 0. 0. 0. 0.]\n"
          ]
        }
      ]
    },
    {
      "cell_type": "code",
      "source": [
        "def f_sigmoid (x):\n",
        "  return 1/(1 + np.exp(-x))\n"
      ],
      "metadata": {
        "id": "E52LIxaS7h6s"
      },
      "execution_count": 7,
      "outputs": []
    },
    {
      "cell_type": "code",
      "source": [
        "# инициализация рандомных матриц весов\n",
        "\n",
        "# n - кол-во пикселей на входе\n",
        "n = 784\n",
        "number_of_input_neurons = n\n",
        "number_of_hidden_neurons = 20\n",
        "number_of_output_neurons = 10\n",
        "\n",
        "# входной слой - number_of_input_neurons, скрытый слой - number_of_hidden_neuron\n",
        "# случайные весовые коэф. : W ij - вес связи между j-м входным нейроном и i-м скрытым нейроном\n",
        "weights_input_to_hidden = np.random.uniform(-0.5,0.5,(number_of_hidden_neurons,number_of_input_neurons))\n",
        "\n",
        "# W ij - вес связи между j-м нейроном скрытого слоя и i-м выходным нейроном\n",
        "weights_hidden_to_output = np.random.uniform(-0.5,0.5,(number_of_output_neurons,number_of_hidden_neurons))\n",
        "\n",
        "# нейроны смещения - нулевые 2D масссивы\n",
        "bias_input_to_hidden = np.zeros((number_of_hidden_neurons,1)) # (4,1) -> кортеж с размерами\n",
        "bias_hidden_to_output = np.zeros((number_of_output_neurons,1))\n",
        "\n",
        "\n",
        "\n",
        "\n",
        "\n",
        "\n",
        "\n",
        "epochs = 3\n",
        "e_loss = 0\n",
        "e_correct = 0\n",
        "learning_rate = 0.01\n",
        "for epoch in range(epochs):\n",
        "  epoch_loss = 0\n",
        "  epoch_correct = 0\n",
        "  total_samples = len(images)\n",
        "\n",
        "\n",
        "  learning_rate = 0.01\n",
        "  print(f\"Epoch N{epoch}\")\n",
        "  for image, label in zip(images, labels):\n",
        "    image = np.reshape(image,(-1,1))\n",
        "    label = np.reshape(label,(-1,1))\n",
        "\n",
        "    # FORWARD PROPAGATION\n",
        "    # функция активации - сигмоид\n",
        "    # to hidden layer\n",
        "    hidden_raw = bias_input_to_hidden + weights_input_to_hidden @ image\n",
        "    hidden = f_sigmoid(hidden_raw)\n",
        "\n",
        "    # to output layer\n",
        "    # передаем в скрытый слой рез-т hidden\n",
        "    output_raw = bias_hidden_to_output + weights_hidden_to_output @ hidden\n",
        "    output = f_sigmoid(output_raw)\n",
        "\n",
        "    # Loss/Error calc\n",
        "    epoch_loss += np.mean((output - label) ** 2)\n",
        "    epoch_correct += int(np.argmax(output) == np.argmax(label))\n",
        "\n",
        "\n",
        "    # BACKPROPAGATION\n",
        "\n",
        "    # output layer\n",
        "    delta_output = output - label\n",
        "    weights_hidden_to_output += -learning_rate * delta_output @ np.transpose(hidden)\n",
        "    bias_hidden_to_output += -learning_rate * delta_output\n",
        "\n",
        "    # hidden layer\n",
        "    delta_hidden = np.transpose(weights_hidden_to_output) @ delta_output * (hidden*(1-hidden))\n",
        "    weights_input_to_hidden += -learning_rate * delta_hidden @ np.transpose(image)\n",
        "    bias_input_to_hidden += -learning_rate * delta_hidden\n",
        "\n",
        "\n",
        "\n",
        "\n",
        "  avg_loss = epoch_loss / total_samples\n",
        "  accuracy = epoch_correct / total_samples\n",
        "\n",
        "  print(f\"Loss: {avg_loss:.4f}, Accuracy: {accuracy:.2%}\")\n",
        "\n",
        "\n",
        "\n"
      ],
      "metadata": {
        "colab": {
          "base_uri": "https://localhost:8080/"
        },
        "id": "ybSXuMS_5qG4",
        "outputId": "b0a8e2c5-eb5c-46be-a7eb-c6da8653fae5"
      },
      "execution_count": 8,
      "outputs": [
        {
          "output_type": "stream",
          "name": "stdout",
          "text": [
            "Epoch N0\n",
            "Loss: 0.0238, Accuracy: 86.20%\n",
            "Epoch N1\n",
            "Loss: 0.0130, Accuracy: 92.17%\n",
            "Epoch N2\n",
            "Loss: 0.0111, Accuracy: 93.36%\n"
          ]
        }
      ]
    }
  ]
}